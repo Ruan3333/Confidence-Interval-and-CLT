{
 "cells": [
  {
   "cell_type": "code",
   "execution_count": 83,
   "id": "2a440b90",
   "metadata": {},
   "outputs": [],
   "source": [
    "import numpy as np\n",
    "import pandas as pd\n",
    "import matplotlib.pyplot as plt\n",
    "import seaborn as sns\n",
    "from scipy.stats import norm"
   ]
  },
  {
   "cell_type": "code",
   "execution_count": 2,
   "id": "b9f5fc25",
   "metadata": {},
   "outputs": [
    {
     "data": {
      "text/html": [
       "<div>\n",
       "<style scoped>\n",
       "    .dataframe tbody tr th:only-of-type {\n",
       "        vertical-align: middle;\n",
       "    }\n",
       "\n",
       "    .dataframe tbody tr th {\n",
       "        vertical-align: top;\n",
       "    }\n",
       "\n",
       "    .dataframe thead th {\n",
       "        text-align: right;\n",
       "    }\n",
       "</style>\n",
       "<table border=\"1\" class=\"dataframe\">\n",
       "  <thead>\n",
       "    <tr style=\"text-align: right;\">\n",
       "      <th></th>\n",
       "      <th>User_ID</th>\n",
       "      <th>Product_ID</th>\n",
       "      <th>Gender</th>\n",
       "      <th>Age</th>\n",
       "      <th>Occupation</th>\n",
       "      <th>City_Category</th>\n",
       "      <th>Stay_In_Current_City_Years</th>\n",
       "      <th>Marital_Status</th>\n",
       "      <th>Product_Category</th>\n",
       "      <th>Purchase</th>\n",
       "    </tr>\n",
       "  </thead>\n",
       "  <tbody>\n",
       "    <tr>\n",
       "      <th>0</th>\n",
       "      <td>1000001</td>\n",
       "      <td>P00069042</td>\n",
       "      <td>F</td>\n",
       "      <td>0-17</td>\n",
       "      <td>10</td>\n",
       "      <td>A</td>\n",
       "      <td>2</td>\n",
       "      <td>0</td>\n",
       "      <td>3</td>\n",
       "      <td>8370</td>\n",
       "    </tr>\n",
       "    <tr>\n",
       "      <th>1</th>\n",
       "      <td>1000001</td>\n",
       "      <td>P00248942</td>\n",
       "      <td>F</td>\n",
       "      <td>0-17</td>\n",
       "      <td>10</td>\n",
       "      <td>A</td>\n",
       "      <td>2</td>\n",
       "      <td>0</td>\n",
       "      <td>1</td>\n",
       "      <td>15200</td>\n",
       "    </tr>\n",
       "    <tr>\n",
       "      <th>2</th>\n",
       "      <td>1000001</td>\n",
       "      <td>P00087842</td>\n",
       "      <td>F</td>\n",
       "      <td>0-17</td>\n",
       "      <td>10</td>\n",
       "      <td>A</td>\n",
       "      <td>2</td>\n",
       "      <td>0</td>\n",
       "      <td>12</td>\n",
       "      <td>1422</td>\n",
       "    </tr>\n",
       "    <tr>\n",
       "      <th>3</th>\n",
       "      <td>1000001</td>\n",
       "      <td>P00085442</td>\n",
       "      <td>F</td>\n",
       "      <td>0-17</td>\n",
       "      <td>10</td>\n",
       "      <td>A</td>\n",
       "      <td>2</td>\n",
       "      <td>0</td>\n",
       "      <td>12</td>\n",
       "      <td>1057</td>\n",
       "    </tr>\n",
       "    <tr>\n",
       "      <th>4</th>\n",
       "      <td>1000002</td>\n",
       "      <td>P00285442</td>\n",
       "      <td>M</td>\n",
       "      <td>55+</td>\n",
       "      <td>16</td>\n",
       "      <td>C</td>\n",
       "      <td>4+</td>\n",
       "      <td>0</td>\n",
       "      <td>8</td>\n",
       "      <td>7969</td>\n",
       "    </tr>\n",
       "  </tbody>\n",
       "</table>\n",
       "</div>"
      ],
      "text/plain": [
       "   User_ID Product_ID Gender   Age  Occupation City_Category  \\\n",
       "0  1000001  P00069042      F  0-17          10             A   \n",
       "1  1000001  P00248942      F  0-17          10             A   \n",
       "2  1000001  P00087842      F  0-17          10             A   \n",
       "3  1000001  P00085442      F  0-17          10             A   \n",
       "4  1000002  P00285442      M   55+          16             C   \n",
       "\n",
       "  Stay_In_Current_City_Years  Marital_Status  Product_Category  Purchase  \n",
       "0                          2               0                 3      8370  \n",
       "1                          2               0                 1     15200  \n",
       "2                          2               0                12      1422  \n",
       "3                          2               0                12      1057  \n",
       "4                         4+               0                 8      7969  "
      ]
     },
     "execution_count": 2,
     "metadata": {},
     "output_type": "execute_result"
    }
   ],
   "source": [
    "df = pd.read_csv(\"walmart.csv\")\n",
    "df.head()"
   ]
  },
  {
   "cell_type": "code",
   "execution_count": 3,
   "id": "5917cdb1",
   "metadata": {},
   "outputs": [
    {
     "data": {
      "text/plain": [
       "(550068, 10)"
      ]
     },
     "execution_count": 3,
     "metadata": {},
     "output_type": "execute_result"
    }
   ],
   "source": [
    "df.shape"
   ]
  },
  {
   "cell_type": "code",
   "execution_count": 4,
   "id": "49d85105",
   "metadata": {},
   "outputs": [
    {
     "name": "stdout",
     "output_type": "stream",
     "text": [
      "<class 'pandas.core.frame.DataFrame'>\n",
      "RangeIndex: 550068 entries, 0 to 550067\n",
      "Data columns (total 10 columns):\n",
      " #   Column                      Non-Null Count   Dtype \n",
      "---  ------                      --------------   ----- \n",
      " 0   User_ID                     550068 non-null  int64 \n",
      " 1   Product_ID                  550068 non-null  object\n",
      " 2   Gender                      550068 non-null  object\n",
      " 3   Age                         550068 non-null  object\n",
      " 4   Occupation                  550068 non-null  int64 \n",
      " 5   City_Category               550068 non-null  object\n",
      " 6   Stay_In_Current_City_Years  550068 non-null  object\n",
      " 7   Marital_Status              550068 non-null  int64 \n",
      " 8   Product_Category            550068 non-null  int64 \n",
      " 9   Purchase                    550068 non-null  int64 \n",
      "dtypes: int64(5), object(5)\n",
      "memory usage: 42.0+ MB\n"
     ]
    }
   ],
   "source": [
    "df.info()"
   ]
  },
  {
   "cell_type": "markdown",
   "id": "0e6a3be6",
   "metadata": {},
   "source": [
    "#### Observation:\n",
    "1) No null values\n",
    "\n",
    "2) Number of rows = 550068, Number of columns = 10"
   ]
  },
  {
   "cell_type": "code",
   "execution_count": 6,
   "id": "8acbb853",
   "metadata": {},
   "outputs": [
    {
     "data": {
      "text/html": [
       "<div>\n",
       "<style scoped>\n",
       "    .dataframe tbody tr th:only-of-type {\n",
       "        vertical-align: middle;\n",
       "    }\n",
       "\n",
       "    .dataframe tbody tr th {\n",
       "        vertical-align: top;\n",
       "    }\n",
       "\n",
       "    .dataframe thead th {\n",
       "        text-align: right;\n",
       "    }\n",
       "</style>\n",
       "<table border=\"1\" class=\"dataframe\">\n",
       "  <thead>\n",
       "    <tr style=\"text-align: right;\">\n",
       "      <th></th>\n",
       "      <th>User_ID</th>\n",
       "      <th>Occupation</th>\n",
       "      <th>Marital_Status</th>\n",
       "      <th>Product_Category</th>\n",
       "      <th>Purchase</th>\n",
       "    </tr>\n",
       "  </thead>\n",
       "  <tbody>\n",
       "    <tr>\n",
       "      <th>count</th>\n",
       "      <td>5.500680e+05</td>\n",
       "      <td>550068.000000</td>\n",
       "      <td>550068.000000</td>\n",
       "      <td>550068.000000</td>\n",
       "      <td>550068.000000</td>\n",
       "    </tr>\n",
       "    <tr>\n",
       "      <th>mean</th>\n",
       "      <td>1.003029e+06</td>\n",
       "      <td>8.076707</td>\n",
       "      <td>0.409653</td>\n",
       "      <td>5.404270</td>\n",
       "      <td>9263.968713</td>\n",
       "    </tr>\n",
       "    <tr>\n",
       "      <th>std</th>\n",
       "      <td>1.727592e+03</td>\n",
       "      <td>6.522660</td>\n",
       "      <td>0.491770</td>\n",
       "      <td>3.936211</td>\n",
       "      <td>5023.065394</td>\n",
       "    </tr>\n",
       "    <tr>\n",
       "      <th>min</th>\n",
       "      <td>1.000001e+06</td>\n",
       "      <td>0.000000</td>\n",
       "      <td>0.000000</td>\n",
       "      <td>1.000000</td>\n",
       "      <td>12.000000</td>\n",
       "    </tr>\n",
       "    <tr>\n",
       "      <th>25%</th>\n",
       "      <td>1.001516e+06</td>\n",
       "      <td>2.000000</td>\n",
       "      <td>0.000000</td>\n",
       "      <td>1.000000</td>\n",
       "      <td>5823.000000</td>\n",
       "    </tr>\n",
       "    <tr>\n",
       "      <th>50%</th>\n",
       "      <td>1.003077e+06</td>\n",
       "      <td>7.000000</td>\n",
       "      <td>0.000000</td>\n",
       "      <td>5.000000</td>\n",
       "      <td>8047.000000</td>\n",
       "    </tr>\n",
       "    <tr>\n",
       "      <th>75%</th>\n",
       "      <td>1.004478e+06</td>\n",
       "      <td>14.000000</td>\n",
       "      <td>1.000000</td>\n",
       "      <td>8.000000</td>\n",
       "      <td>12054.000000</td>\n",
       "    </tr>\n",
       "    <tr>\n",
       "      <th>max</th>\n",
       "      <td>1.006040e+06</td>\n",
       "      <td>20.000000</td>\n",
       "      <td>1.000000</td>\n",
       "      <td>20.000000</td>\n",
       "      <td>23961.000000</td>\n",
       "    </tr>\n",
       "  </tbody>\n",
       "</table>\n",
       "</div>"
      ],
      "text/plain": [
       "            User_ID     Occupation  Marital_Status  Product_Category  \\\n",
       "count  5.500680e+05  550068.000000   550068.000000     550068.000000   \n",
       "mean   1.003029e+06       8.076707        0.409653          5.404270   \n",
       "std    1.727592e+03       6.522660        0.491770          3.936211   \n",
       "min    1.000001e+06       0.000000        0.000000          1.000000   \n",
       "25%    1.001516e+06       2.000000        0.000000          1.000000   \n",
       "50%    1.003077e+06       7.000000        0.000000          5.000000   \n",
       "75%    1.004478e+06      14.000000        1.000000          8.000000   \n",
       "max    1.006040e+06      20.000000        1.000000         20.000000   \n",
       "\n",
       "            Purchase  \n",
       "count  550068.000000  \n",
       "mean     9263.968713  \n",
       "std      5023.065394  \n",
       "min        12.000000  \n",
       "25%      5823.000000  \n",
       "50%      8047.000000  \n",
       "75%     12054.000000  \n",
       "max     23961.000000  "
      ]
     },
     "execution_count": 6,
     "metadata": {},
     "output_type": "execute_result"
    }
   ],
   "source": [
    "df.describe()"
   ]
  },
  {
   "cell_type": "code",
   "execution_count": 7,
   "id": "000c373e",
   "metadata": {},
   "outputs": [
    {
     "data": {
      "text/html": [
       "<div>\n",
       "<style scoped>\n",
       "    .dataframe tbody tr th:only-of-type {\n",
       "        vertical-align: middle;\n",
       "    }\n",
       "\n",
       "    .dataframe tbody tr th {\n",
       "        vertical-align: top;\n",
       "    }\n",
       "\n",
       "    .dataframe thead th {\n",
       "        text-align: right;\n",
       "    }\n",
       "</style>\n",
       "<table border=\"1\" class=\"dataframe\">\n",
       "  <thead>\n",
       "    <tr style=\"text-align: right;\">\n",
       "      <th></th>\n",
       "      <th>Product_ID</th>\n",
       "      <th>Gender</th>\n",
       "      <th>Age</th>\n",
       "      <th>City_Category</th>\n",
       "      <th>Stay_In_Current_City_Years</th>\n",
       "    </tr>\n",
       "  </thead>\n",
       "  <tbody>\n",
       "    <tr>\n",
       "      <th>count</th>\n",
       "      <td>550068</td>\n",
       "      <td>550068</td>\n",
       "      <td>550068</td>\n",
       "      <td>550068</td>\n",
       "      <td>550068</td>\n",
       "    </tr>\n",
       "    <tr>\n",
       "      <th>unique</th>\n",
       "      <td>3631</td>\n",
       "      <td>2</td>\n",
       "      <td>7</td>\n",
       "      <td>3</td>\n",
       "      <td>5</td>\n",
       "    </tr>\n",
       "    <tr>\n",
       "      <th>top</th>\n",
       "      <td>P00265242</td>\n",
       "      <td>M</td>\n",
       "      <td>26-35</td>\n",
       "      <td>B</td>\n",
       "      <td>1</td>\n",
       "    </tr>\n",
       "    <tr>\n",
       "      <th>freq</th>\n",
       "      <td>1880</td>\n",
       "      <td>414259</td>\n",
       "      <td>219587</td>\n",
       "      <td>231173</td>\n",
       "      <td>193821</td>\n",
       "    </tr>\n",
       "  </tbody>\n",
       "</table>\n",
       "</div>"
      ],
      "text/plain": [
       "       Product_ID  Gender     Age City_Category Stay_In_Current_City_Years\n",
       "count      550068  550068  550068        550068                     550068\n",
       "unique       3631       2       7             3                          5\n",
       "top     P00265242       M   26-35             B                          1\n",
       "freq         1880  414259  219587        231173                     193821"
      ]
     },
     "execution_count": 7,
     "metadata": {},
     "output_type": "execute_result"
    }
   ],
   "source": [
    "df.describe(include = \"object\")"
   ]
  },
  {
   "cell_type": "code",
   "execution_count": 8,
   "id": "5285b0e0",
   "metadata": {},
   "outputs": [
    {
     "data": {
      "text/plain": [
       "User_ID                       0\n",
       "Product_ID                    0\n",
       "Gender                        0\n",
       "Age                           0\n",
       "Occupation                    0\n",
       "City_Category                 0\n",
       "Stay_In_Current_City_Years    0\n",
       "Marital_Status                0\n",
       "Product_Category              0\n",
       "Purchase                      0\n",
       "dtype: int64"
      ]
     },
     "execution_count": 8,
     "metadata": {},
     "output_type": "execute_result"
    }
   ],
   "source": [
    "df.isnull().sum()"
   ]
  },
  {
   "cell_type": "markdown",
   "id": "307e32e8",
   "metadata": {},
   "source": [
    "#### Observation:\n",
    "1) No null values."
   ]
  },
  {
   "cell_type": "code",
   "execution_count": 162,
   "id": "a3b36385",
   "metadata": {},
   "outputs": [
    {
     "data": {
      "image/png": "[encoded data removed]",
      "text/plain": [
       "<Figure size 432x288 with 1 Axes>"
      ]
     },
     "metadata": {
      "needs_background": "light"
     },
     "output_type": "display_data"
    }
   ],
   "source": [
    "sns.countplot(data = df, x = \"Product_Category\",hue = \"Gender\")\n",
    "plt.show()"
   ]
  },
  {
   "cell_type": "markdown",
   "id": "b25aae8e",
   "metadata": {},
   "source": [
    "#### Observations:\n",
    "1) Product category 1, 5, 8 are popular than other product categories."
   ]
  },
  {
   "cell_type": "code",
   "execution_count": 55,
   "id": "76bba13e",
   "metadata": {},
   "outputs": [
    {
     "data": {
      "image/png": "[encoded data removed]",
      "text/plain": [
       "<Figure size 432x288 with 1 Axes>"
      ]
     },
     "metadata": {
      "needs_background": "light"
     },
     "output_type": "display_data"
    }
   ],
   "source": [
    "sns.histplot(data = df, x = \"Purchase\", bins = 25)\n",
    "plt.show()"
   ]
  },
  {
   "cell_type": "code",
   "execution_count": 9,
   "id": "f159daf9",
   "metadata": {},
   "outputs": [
    {
     "data": {
      "image/png": "[encoded data removed]",
      "text/plain": [
       "<Figure size 432x288 with 1 Axes>"
      ]
     },
     "metadata": {
      "needs_background": "light"
     },
     "output_type": "display_data"
    }
   ],
   "source": [
    "sns.boxplot(data = df, y = \"Purchase\", x = \"Gender\")\n",
    "plt.show()"
   ]
  },
  {
   "cell_type": "code",
   "execution_count": 76,
   "id": "b562cc91",
   "metadata": {},
   "outputs": [
    {
     "data": {
      "text/html": [
       "<div>\n",
       "<style scoped>\n",
       "    .dataframe tbody tr th:only-of-type {\n",
       "        vertical-align: middle;\n",
       "    }\n",
       "\n",
       "    .dataframe tbody tr th {\n",
       "        vertical-align: top;\n",
       "    }\n",
       "\n",
       "    .dataframe thead th {\n",
       "        text-align: right;\n",
       "    }\n",
       "</style>\n",
       "<table border=\"1\" class=\"dataframe\">\n",
       "  <thead>\n",
       "    <tr style=\"text-align: right;\">\n",
       "      <th></th>\n",
       "      <th>count</th>\n",
       "      <th>mean</th>\n",
       "      <th>std</th>\n",
       "      <th>min</th>\n",
       "      <th>25%</th>\n",
       "      <th>50%</th>\n",
       "      <th>75%</th>\n",
       "      <th>max</th>\n",
       "    </tr>\n",
       "    <tr>\n",
       "      <th>Gender</th>\n",
       "      <th></th>\n",
       "      <th></th>\n",
       "      <th></th>\n",
       "      <th></th>\n",
       "      <th></th>\n",
       "      <th></th>\n",
       "      <th></th>\n",
       "      <th></th>\n",
       "    </tr>\n",
       "  </thead>\n",
       "  <tbody>\n",
       "    <tr>\n",
       "      <th>F</th>\n",
       "      <td>135809.0</td>\n",
       "      <td>8734.565765</td>\n",
       "      <td>4767.233289</td>\n",
       "      <td>12.0</td>\n",
       "      <td>5433.0</td>\n",
       "      <td>7914.0</td>\n",
       "      <td>11400.0</td>\n",
       "      <td>23959.0</td>\n",
       "    </tr>\n",
       "    <tr>\n",
       "      <th>M</th>\n",
       "      <td>414259.0</td>\n",
       "      <td>9437.526040</td>\n",
       "      <td>5092.186210</td>\n",
       "      <td>12.0</td>\n",
       "      <td>5863.0</td>\n",
       "      <td>8098.0</td>\n",
       "      <td>12454.0</td>\n",
       "      <td>23961.0</td>\n",
       "    </tr>\n",
       "  </tbody>\n",
       "</table>\n",
       "</div>"
      ],
      "text/plain": [
       "           count         mean          std   min     25%     50%      75%  \\\n",
       "Gender                                                                      \n",
       "F       135809.0  8734.565765  4767.233289  12.0  5433.0  7914.0  11400.0   \n",
       "M       414259.0  9437.526040  5092.186210  12.0  5863.0  8098.0  12454.0   \n",
       "\n",
       "            max  \n",
       "Gender           \n",
       "F       23959.0  \n",
       "M       23961.0  "
      ]
     },
     "execution_count": 76,
     "metadata": {},
     "output_type": "execute_result"
    }
   ],
   "source": [
    "df.groupby(by = \"Gender\")[\"Purchase\"].describe()"
   ]
  },
  {
   "cell_type": "markdown",
   "id": "2fd3220f",
   "metadata": {},
   "source": [
    "### Observations:\n",
    "1) No major difference in median purchase amount between male and female "
   ]
  },
  {
   "cell_type": "code",
   "execution_count": 150,
   "id": "b23d7153",
   "metadata": {},
   "outputs": [
    {
     "data": {
      "text/plain": [
       "1     0.352358\n",
       "2     0.185137\n",
       "3     0.173224\n",
       "4+    0.154028\n",
       "0     0.135252\n",
       "Name: Stay_In_Current_City_Years, dtype: float64"
      ]
     },
     "execution_count": 150,
     "metadata": {},
     "output_type": "execute_result"
    }
   ],
   "source": [
    "df[\"Stay_In_Current_City_Years\"].value_counts(normalize = True)"
   ]
  },
  {
   "cell_type": "code",
   "execution_count": 12,
   "id": "b4ee3ee6",
   "metadata": {},
   "outputs": [
    {
     "data": {
      "image/png": "[encoded data removed]",
      "text/plain": [
       "<Figure size 432x288 with 1 Axes>"
      ]
     },
     "metadata": {
      "needs_background": "light"
     },
     "output_type": "display_data"
    }
   ],
   "source": [
    "sns.countplot(data = df, x =\"Stay_In_Current_City_Years\")\n",
    "plt.show()"
   ]
  },
  {
   "cell_type": "markdown",
   "id": "7400e356",
   "metadata": {},
   "source": [
    "### Observations:\n",
    "1) 35% of customers are staying in their current cities from past 1 year.\n"
   ]
  },
  {
   "cell_type": "code",
   "execution_count": 24,
   "id": "53e6bf82",
   "metadata": {},
   "outputs": [
    {
     "data": {
      "text/plain": [
       "M    75.310507\n",
       "F    24.689493\n",
       "Name: Gender, dtype: float64"
      ]
     },
     "execution_count": 24,
     "metadata": {},
     "output_type": "execute_result"
    }
   ],
   "source": [
    "df[\"Gender\"].value_counts(normalize = True)*100"
   ]
  },
  {
   "cell_type": "code",
   "execution_count": 13,
   "id": "f2e3214e",
   "metadata": {},
   "outputs": [
    {
     "data": {
      "image/png": "[encoded data removed]",
      "text/plain": [
       "<Figure size 432x288 with 1 Axes>"
      ]
     },
     "metadata": {
      "needs_background": "light"
     },
     "output_type": "display_data"
    }
   ],
   "source": [
    "sns.countplot(data = df, x = \"Gender\")\n",
    "plt.show()"
   ]
  },
  {
   "cell_type": "markdown",
   "id": "383d2633",
   "metadata": {},
   "source": [
    "### Observations:\n",
    "1) male orders = 75%, Female orders = 25%"
   ]
  },
  {
   "cell_type": "code",
   "execution_count": 152,
   "id": "b6aea217",
   "metadata": {},
   "outputs": [
    {
     "data": {
      "text/plain": [
       "26-35    39.919974\n",
       "36-45    19.999891\n",
       "18-25    18.117760\n",
       "46-50     8.308246\n",
       "51-55     6.999316\n",
       "55+       3.909335\n",
       "0-17      2.745479\n",
       "Name: Age, dtype: float64"
      ]
     },
     "execution_count": 152,
     "metadata": {},
     "output_type": "execute_result"
    }
   ],
   "source": [
    "df[\"Age\"].value_counts(normalize = True)*100"
   ]
  },
  {
   "cell_type": "code",
   "execution_count": 18,
   "id": "42a3b940",
   "metadata": {},
   "outputs": [
    {
     "data": {
      "image/png": "[encoded data removed]",
      "text/plain": [
       "<Figure size 432x288 with 1 Axes>"
      ]
     },
     "metadata": {
      "needs_background": "light"
     },
     "output_type": "display_data"
    }
   ],
   "source": [
    "sns.countplot(data = df, x = \"Age\")\n",
    "plt.show()"
   ]
  },
  {
   "cell_type": "markdown",
   "id": "9c318422",
   "metadata": {},
   "source": [
    "### Observations:\n",
    "1) 78% of the people who purchased on black friday are in the age group of 18-45"
   ]
  },
  {
   "cell_type": "code",
   "execution_count": 58,
   "id": "7a5da6a8",
   "metadata": {},
   "outputs": [
    {
     "data": {
      "image/png": "[encoded data removed]",
      "text/plain": [
       "<Figure size 432x288 with 1 Axes>"
      ]
     },
     "metadata": {
      "needs_background": "light"
     },
     "output_type": "display_data"
    }
   ],
   "source": [
    "sns.countplot(data = df, x = \"Marital_Status\")\n",
    "plt.show() "
   ]
  },
  {
   "cell_type": "code",
   "execution_count": 60,
   "id": "b06faaf0",
   "metadata": {},
   "outputs": [
    {
     "data": {
      "image/png": "[encoded data removed]",
      "text/plain": [
       "<Figure size 432x288 with 1 Axes>"
      ]
     },
     "metadata": {
      "needs_background": "light"
     },
     "output_type": "display_data"
    }
   ],
   "source": [
    "sns.countplot(data = df, x = \"City_Category\")\n",
    "plt.show() "
   ]
  },
  {
   "cell_type": "markdown",
   "id": "b35c4435",
   "metadata": {},
   "source": [
    "### Customer purchase behavior against the customer’s gender"
   ]
  },
  {
   "cell_type": "code",
   "execution_count": 122,
   "id": "0bb7ac86",
   "metadata": {},
   "outputs": [
    {
     "data": {
      "text/html": [
       "<div>\n",
       "<style scoped>\n",
       "    .dataframe tbody tr th:only-of-type {\n",
       "        vertical-align: middle;\n",
       "    }\n",
       "\n",
       "    .dataframe tbody tr th {\n",
       "        vertical-align: top;\n",
       "    }\n",
       "\n",
       "    .dataframe thead th {\n",
       "        text-align: right;\n",
       "    }\n",
       "</style>\n",
       "<table border=\"1\" class=\"dataframe\">\n",
       "  <thead>\n",
       "    <tr style=\"text-align: right;\">\n",
       "      <th></th>\n",
       "      <th>count</th>\n",
       "      <th>mean</th>\n",
       "      <th>std</th>\n",
       "      <th>min</th>\n",
       "      <th>25%</th>\n",
       "      <th>50%</th>\n",
       "      <th>75%</th>\n",
       "      <th>max</th>\n",
       "    </tr>\n",
       "    <tr>\n",
       "      <th>Gender</th>\n",
       "      <th></th>\n",
       "      <th></th>\n",
       "      <th></th>\n",
       "      <th></th>\n",
       "      <th></th>\n",
       "      <th></th>\n",
       "      <th></th>\n",
       "      <th></th>\n",
       "    </tr>\n",
       "  </thead>\n",
       "  <tbody>\n",
       "    <tr>\n",
       "      <th>F</th>\n",
       "      <td>135809.0</td>\n",
       "      <td>8734.565765</td>\n",
       "      <td>4767.233289</td>\n",
       "      <td>12.0</td>\n",
       "      <td>5433.0</td>\n",
       "      <td>7914.0</td>\n",
       "      <td>11400.0</td>\n",
       "      <td>23959.0</td>\n",
       "    </tr>\n",
       "    <tr>\n",
       "      <th>M</th>\n",
       "      <td>414259.0</td>\n",
       "      <td>9437.526040</td>\n",
       "      <td>5092.186210</td>\n",
       "      <td>12.0</td>\n",
       "      <td>5863.0</td>\n",
       "      <td>8098.0</td>\n",
       "      <td>12454.0</td>\n",
       "      <td>23961.0</td>\n",
       "    </tr>\n",
       "  </tbody>\n",
       "</table>\n",
       "</div>"
      ],
      "text/plain": [
       "           count         mean          std   min     25%     50%      75%  \\\n",
       "Gender                                                                      \n",
       "F       135809.0  8734.565765  4767.233289  12.0  5433.0  7914.0  11400.0   \n",
       "M       414259.0  9437.526040  5092.186210  12.0  5863.0  8098.0  12454.0   \n",
       "\n",
       "            max  \n",
       "Gender           \n",
       "F       23959.0  \n",
       "M       23961.0  "
      ]
     },
     "execution_count": 122,
     "metadata": {},
     "output_type": "execute_result"
    }
   ],
   "source": [
    "df.groupby(by = \"Gender\")[\"Purchase\"].describe()"
   ]
  },
  {
   "cell_type": "code",
   "execution_count": 72,
   "id": "94f12f23",
   "metadata": {},
   "outputs": [],
   "source": [
    "# Bootstraping\n",
    "sample_size = 300\n",
    "no_of_samples = 1000\n",
    "male_sample_means = [df[df[\"Gender\"]==\"M\"][\"Purchase\"].sample(sample_size, replace = True).mean() for i in range(no_of_samples)]\n",
    "female_sample_means = [df[df[\"Gender\"]==\"F\"][\"Purchase\"].sample(sample_size, replace = True).mean() for i in range(no_of_samples)]"
   ]
  },
  {
   "cell_type": "code",
   "execution_count": 73,
   "id": "da18e9a3",
   "metadata": {},
   "outputs": [
    {
     "data": {
      "image/png": "[encoded data removed]",
      "text/plain": [
       "<Figure size 432x288 with 1 Axes>"
      ]
     },
     "metadata": {
      "needs_background": "light"
     },
     "output_type": "display_data"
    }
   ],
   "source": [
    "sns.histplot(male_sample_means)\n",
    "plt.show()"
   ]
  },
  {
   "cell_type": "code",
   "execution_count": 74,
   "id": "81cb86cf",
   "metadata": {},
   "outputs": [
    {
     "data": {
      "image/png": "[encoded data removed]",
      "text/plain": [
       "<Figure size 432x288 with 1 Axes>"
      ]
     },
     "metadata": {
      "needs_background": "light"
     },
     "output_type": "display_data"
    }
   ],
   "source": [
    "sns.histplot(female_sample_means)\n",
    "plt.show()"
   ]
  },
  {
   "cell_type": "code",
   "execution_count": 79,
   "id": "3ac60705",
   "metadata": {},
   "outputs": [],
   "source": [
    "mu_male = np.mean(male_sample_means)\n",
    "std_male = np.std(male_sample_means)\n",
    "\n",
    "mu_female = np.mean(female_sample_means)\n",
    "std_female = np.std(female_sample_means)"
   ]
  },
  {
   "cell_type": "code",
   "execution_count": 80,
   "id": "5ffc785b",
   "metadata": {},
   "outputs": [
    {
     "data": {
      "text/plain": [
       "(8865.375550957968, 10008.01566904203)"
      ]
     },
     "execution_count": 80,
     "metadata": {},
     "output_type": "execute_result"
    }
   ],
   "source": [
    "# 95th Confidence Interval for male:\n",
    "(mu_male - 1.95 *  std_male , mu_male + 1.95 *  std_male )"
   ]
  },
  {
   "cell_type": "code",
   "execution_count": 81,
   "id": "e50d33c3",
   "metadata": {},
   "outputs": [
    {
     "data": {
      "text/plain": [
       "(8228.568976106875, 9231.978963893122)"
      ]
     },
     "execution_count": 81,
     "metadata": {},
     "output_type": "execute_result"
    }
   ],
   "source": [
    "# 95th Confidence Interval for female:\n",
    "(mu_female - 1.95 *  std_female , mu_female + 1.95 *  std_female )"
   ]
  },
  {
   "cell_type": "markdown",
   "id": "c5ce3b32",
   "metadata": {},
   "source": [
    "#### Observations:\n",
    "1) 95th Confidence intervals for male and female are overlapping , so we can not make any conclusion about there purchase behavior."
   ]
  },
  {
   "cell_type": "markdown",
   "id": "3b10c3c2",
   "metadata": {},
   "source": [
    "### Customer purchase behavior against the customer’s City_Category"
   ]
  },
  {
   "cell_type": "code",
   "execution_count": 153,
   "id": "1c22e6aa",
   "metadata": {},
   "outputs": [
    {
     "data": {
      "image/png": "[encoded data removed]",
      "text/plain": [
       "<Figure size 432x288 with 1 Axes>"
      ]
     },
     "metadata": {
      "needs_background": "light"
     },
     "output_type": "display_data"
    }
   ],
   "source": [
    "sns.boxplot(data = df, y = \"Purchase\", x = \"City_Category\")\n",
    "plt.show()"
   ]
  },
  {
   "cell_type": "code",
   "execution_count": 103,
   "id": "3c8144e2",
   "metadata": {},
   "outputs": [
    {
     "data": {
      "text/html": [
       "<div>\n",
       "<style scoped>\n",
       "    .dataframe tbody tr th:only-of-type {\n",
       "        vertical-align: middle;\n",
       "    }\n",
       "\n",
       "    .dataframe tbody tr th {\n",
       "        vertical-align: top;\n",
       "    }\n",
       "\n",
       "    .dataframe thead th {\n",
       "        text-align: right;\n",
       "    }\n",
       "</style>\n",
       "<table border=\"1\" class=\"dataframe\">\n",
       "  <thead>\n",
       "    <tr style=\"text-align: right;\">\n",
       "      <th></th>\n",
       "      <th>count</th>\n",
       "      <th>mean</th>\n",
       "      <th>std</th>\n",
       "      <th>min</th>\n",
       "      <th>25%</th>\n",
       "      <th>50%</th>\n",
       "      <th>75%</th>\n",
       "      <th>max</th>\n",
       "    </tr>\n",
       "    <tr>\n",
       "      <th>City_Category</th>\n",
       "      <th></th>\n",
       "      <th></th>\n",
       "      <th></th>\n",
       "      <th></th>\n",
       "      <th></th>\n",
       "      <th></th>\n",
       "      <th></th>\n",
       "      <th></th>\n",
       "    </tr>\n",
       "  </thead>\n",
       "  <tbody>\n",
       "    <tr>\n",
       "      <th>A</th>\n",
       "      <td>147720.0</td>\n",
       "      <td>8911.939216</td>\n",
       "      <td>4892.115238</td>\n",
       "      <td>12.0</td>\n",
       "      <td>5403.0</td>\n",
       "      <td>7931.0</td>\n",
       "      <td>11786.0</td>\n",
       "      <td>23961.0</td>\n",
       "    </tr>\n",
       "    <tr>\n",
       "      <th>B</th>\n",
       "      <td>231173.0</td>\n",
       "      <td>9151.300563</td>\n",
       "      <td>4955.496566</td>\n",
       "      <td>12.0</td>\n",
       "      <td>5460.0</td>\n",
       "      <td>8005.0</td>\n",
       "      <td>11986.0</td>\n",
       "      <td>23960.0</td>\n",
       "    </tr>\n",
       "    <tr>\n",
       "      <th>C</th>\n",
       "      <td>171175.0</td>\n",
       "      <td>9719.920993</td>\n",
       "      <td>5189.465121</td>\n",
       "      <td>12.0</td>\n",
       "      <td>6031.5</td>\n",
       "      <td>8585.0</td>\n",
       "      <td>13197.0</td>\n",
       "      <td>23961.0</td>\n",
       "    </tr>\n",
       "  </tbody>\n",
       "</table>\n",
       "</div>"
      ],
      "text/plain": [
       "                  count         mean          std   min     25%     50%  \\\n",
       "City_Category                                                             \n",
       "A              147720.0  8911.939216  4892.115238  12.0  5403.0  7931.0   \n",
       "B              231173.0  9151.300563  4955.496566  12.0  5460.0  8005.0   \n",
       "C              171175.0  9719.920993  5189.465121  12.0  6031.5  8585.0   \n",
       "\n",
       "                   75%      max  \n",
       "City_Category                    \n",
       "A              11786.0  23961.0  \n",
       "B              11986.0  23960.0  \n",
       "C              13197.0  23961.0  "
      ]
     },
     "execution_count": 103,
     "metadata": {},
     "output_type": "execute_result"
    }
   ],
   "source": [
    "df.groupby(by = \"City_Category\")[\"Purchase\"].describe()"
   ]
  },
  {
   "cell_type": "code",
   "execution_count": 99,
   "id": "e9c29db4",
   "metadata": {},
   "outputs": [],
   "source": [
    "# Bootstraping\n",
    "sample_size = 300\n",
    "no_of_samples = 500\n",
    "A_city_sample_means = [df[df[\"City_Category\"]==\"A\"][\"Purchase\"].sample(sample_size, replace = True).mean() for i in range(no_of_samples)]\n",
    "B_city_sample_means = [df[df[\"City_Category\"]==\"B\"][\"Purchase\"].sample(sample_size, replace = True).mean() for i in range(no_of_samples)]\n",
    "C_city_sample_means = [df[df[\"City_Category\"]==\"C\"][\"Purchase\"].sample(sample_size, replace = True).mean() for i in range(no_of_samples)]"
   ]
  },
  {
   "cell_type": "code",
   "execution_count": 100,
   "id": "2eb9a22a",
   "metadata": {},
   "outputs": [
    {
     "data": {
      "image/png": "[encoded data removed]",
      "text/plain": [
       "<Figure size 432x288 with 1 Axes>"
      ]
     },
     "metadata": {
      "needs_background": "light"
     },
     "output_type": "display_data"
    }
   ],
   "source": [
    "sns.histplot(A_city_sample_means)\n",
    "plt.show()"
   ]
  },
  {
   "cell_type": "code",
   "execution_count": 101,
   "id": "508af1ae",
   "metadata": {},
   "outputs": [
    {
     "data": {
      "image/png": "[encoded data removed]",
      "text/plain": [
       "<Figure size 432x288 with 1 Axes>"
      ]
     },
     "metadata": {
      "needs_background": "light"
     },
     "output_type": "display_data"
    }
   ],
   "source": [
    "sns.histplot(B_city_sample_means)\n",
    "plt.show()"
   ]
  },
  {
   "cell_type": "code",
   "execution_count": 102,
   "id": "209ff8dd",
   "metadata": {},
   "outputs": [
    {
     "data": {
      "image/png": "[encoded data removed]",
      "text/plain": [
       "<Figure size 432x288 with 1 Axes>"
      ]
     },
     "metadata": {
      "needs_background": "light"
     },
     "output_type": "display_data"
    }
   ],
   "source": [
    "sns.histplot(C_city_sample_means)\n",
    "plt.show()"
   ]
  },
  {
   "cell_type": "code",
   "execution_count": 111,
   "id": "f74fb184",
   "metadata": {},
   "outputs": [],
   "source": [
    "mu_A = np.mean(A_city_sample_means)\n",
    "std_A = np.std(A_city_sample_means)\n",
    "\n",
    "mu_B = np.mean(B_city_sample_means)\n",
    "std_B = np.std(B_city_sample_means)\n",
    "\n",
    "mu_C = np.mean(C_city_sample_means)\n",
    "std_C = np.std(C_city_sample_means)"
   ]
  },
  {
   "cell_type": "code",
   "execution_count": 112,
   "id": "c3bc1c08",
   "metadata": {},
   "outputs": [
    {
     "data": {
      "text/plain": [
       "(8366.068802953821, 9450.059383712847)"
      ]
     },
     "execution_count": 112,
     "metadata": {},
     "output_type": "execute_result"
    }
   ],
   "source": [
    "# 95th Confidence Interval for city A:\n",
    "(mu_A - 1.95 * std_A , mu_A + 1.95 * std_A )"
   ]
  },
  {
   "cell_type": "code",
   "execution_count": 113,
   "id": "3b1285d9",
   "metadata": {},
   "outputs": [
    {
     "data": {
      "text/plain": [
       "(8559.200679630176, 9703.05633370316)"
      ]
     },
     "execution_count": 113,
     "metadata": {},
     "output_type": "execute_result"
    }
   ],
   "source": [
    "# 95th Confidence Interval for city B:\n",
    "(mu_B - 1.95 * std_B , mu_B + 1.95 * std_B )"
   ]
  },
  {
   "cell_type": "code",
   "execution_count": 114,
   "id": "7726bb65",
   "metadata": {},
   "outputs": [
    {
     "data": {
      "text/plain": [
       "(9124.586458266884, 10310.869155066448)"
      ]
     },
     "execution_count": 114,
     "metadata": {},
     "output_type": "execute_result"
    }
   ],
   "source": [
    "# 95th Confidence Interval for city C:\n",
    "(mu_C - 1.95 * std_C , mu_C + 1.95 * std_C )"
   ]
  },
  {
   "cell_type": "markdown",
   "id": "ec4fea5b",
   "metadata": {},
   "source": [
    "#### Observations:\n",
    "1) 95th Confidence intervals for city category A, B, C are overlapping , so we can not make any conclusion about there purchase behavior."
   ]
  },
  {
   "cell_type": "markdown",
   "id": "03164755",
   "metadata": {},
   "source": [
    "### Customer purchase behavior against the customer’s Marital_Status:\t"
   ]
  },
  {
   "cell_type": "code",
   "execution_count": 154,
   "id": "2a3f3ecb",
   "metadata": {},
   "outputs": [
    {
     "data": {
      "image/png": "[encoded data removed]",
      "text/plain": [
       "<Figure size 432x288 with 1 Axes>"
      ]
     },
     "metadata": {
      "needs_background": "light"
     },
     "output_type": "display_data"
    }
   ],
   "source": [
    "sns.boxplot(data = df, y = \"Purchase\", x = \"Marital_Status\")\n",
    "plt.show()"
   ]
  },
  {
   "cell_type": "code",
   "execution_count": 124,
   "id": "2200170f",
   "metadata": {},
   "outputs": [
    {
     "data": {
      "text/html": [
       "<div>\n",
       "<style scoped>\n",
       "    .dataframe tbody tr th:only-of-type {\n",
       "        vertical-align: middle;\n",
       "    }\n",
       "\n",
       "    .dataframe tbody tr th {\n",
       "        vertical-align: top;\n",
       "    }\n",
       "\n",
       "    .dataframe thead th {\n",
       "        text-align: right;\n",
       "    }\n",
       "</style>\n",
       "<table border=\"1\" class=\"dataframe\">\n",
       "  <thead>\n",
       "    <tr style=\"text-align: right;\">\n",
       "      <th></th>\n",
       "      <th>count</th>\n",
       "      <th>mean</th>\n",
       "      <th>std</th>\n",
       "      <th>min</th>\n",
       "      <th>25%</th>\n",
       "      <th>50%</th>\n",
       "      <th>75%</th>\n",
       "      <th>max</th>\n",
       "    </tr>\n",
       "    <tr>\n",
       "      <th>Marital_Status</th>\n",
       "      <th></th>\n",
       "      <th></th>\n",
       "      <th></th>\n",
       "      <th></th>\n",
       "      <th></th>\n",
       "      <th></th>\n",
       "      <th></th>\n",
       "      <th></th>\n",
       "    </tr>\n",
       "  </thead>\n",
       "  <tbody>\n",
       "    <tr>\n",
       "      <th>0</th>\n",
       "      <td>324731.0</td>\n",
       "      <td>9265.907619</td>\n",
       "      <td>5027.347859</td>\n",
       "      <td>12.0</td>\n",
       "      <td>5605.0</td>\n",
       "      <td>8044.0</td>\n",
       "      <td>12061.0</td>\n",
       "      <td>23961.0</td>\n",
       "    </tr>\n",
       "    <tr>\n",
       "      <th>1</th>\n",
       "      <td>225337.0</td>\n",
       "      <td>9261.174574</td>\n",
       "      <td>5016.897378</td>\n",
       "      <td>12.0</td>\n",
       "      <td>5843.0</td>\n",
       "      <td>8051.0</td>\n",
       "      <td>12042.0</td>\n",
       "      <td>23961.0</td>\n",
       "    </tr>\n",
       "  </tbody>\n",
       "</table>\n",
       "</div>"
      ],
      "text/plain": [
       "                   count         mean          std   min     25%     50%  \\\n",
       "Marital_Status                                                             \n",
       "0               324731.0  9265.907619  5027.347859  12.0  5605.0  8044.0   \n",
       "1               225337.0  9261.174574  5016.897378  12.0  5843.0  8051.0   \n",
       "\n",
       "                    75%      max  \n",
       "Marital_Status                    \n",
       "0               12061.0  23961.0  \n",
       "1               12042.0  23961.0  "
      ]
     },
     "execution_count": 124,
     "metadata": {},
     "output_type": "execute_result"
    }
   ],
   "source": [
    "df.groupby(by = \"Marital_Status\")[\"Purchase\"].describe()"
   ]
  },
  {
   "cell_type": "code",
   "execution_count": 125,
   "id": "a1df2af8",
   "metadata": {},
   "outputs": [],
   "source": [
    "# Bootstraping\n",
    "sample_size = 300\n",
    "no_of_samples = 300\n",
    "ms0_sample_means = [df[df[\"Marital_Status\"]==0][\"Purchase\"].sample(sample_size, replace = True).mean() for i in range(no_of_samples)]\n",
    "ms1_sample_means = [df[df[\"Marital_Status\"]==1][\"Purchase\"].sample(sample_size, replace = True).mean() for i in range(no_of_samples)]\n"
   ]
  },
  {
   "cell_type": "code",
   "execution_count": 126,
   "id": "7f72980a",
   "metadata": {},
   "outputs": [
    {
     "data": {
      "image/png": "[encoded data removed]",
      "text/plain": [
       "<Figure size 432x288 with 1 Axes>"
      ]
     },
     "metadata": {
      "needs_background": "light"
     },
     "output_type": "display_data"
    }
   ],
   "source": [
    "sns.histplot(ms0_sample_means)\n",
    "plt.show()"
   ]
  },
  {
   "cell_type": "code",
   "execution_count": 127,
   "id": "77592902",
   "metadata": {},
   "outputs": [
    {
     "data": {
      "image/png": "[encoded data removed]",
      "text/plain": [
       "<Figure size 432x288 with 1 Axes>"
      ]
     },
     "metadata": {
      "needs_background": "light"
     },
     "output_type": "display_data"
    }
   ],
   "source": [
    "sns.histplot(ms1_sample_means)\n",
    "plt.show()"
   ]
  },
  {
   "cell_type": "code",
   "execution_count": 128,
   "id": "9fa21c0c",
   "metadata": {},
   "outputs": [],
   "source": [
    "mu_ms0 = np.mean(ms0_sample_means)\n",
    "std_ms0 = np.std(ms0_sample_means)\n",
    "\n",
    "mu_ms1 = np.mean(ms1_sample_means)\n",
    "std_ms1 = np.std(ms1_sample_means)"
   ]
  },
  {
   "cell_type": "code",
   "execution_count": 131,
   "id": "cadf5ae2",
   "metadata": {},
   "outputs": [
    {
     "data": {
      "text/plain": [
       "(8661.61063309677, 9846.760922458787)"
      ]
     },
     "execution_count": 131,
     "metadata": {},
     "output_type": "execute_result"
    }
   ],
   "source": [
    "# 95th Confidence Interval for Marital_Status 0:\n",
    "(mu_ms0 - 1.95 * std_ms0 , mu_ms0 + 1.95 * std_ms0 )"
   ]
  },
  {
   "cell_type": "code",
   "execution_count": 130,
   "id": "1ddc78e4",
   "metadata": {},
   "outputs": [
    {
     "data": {
      "text/plain": [
       "(8671.620781027128, 9787.872063417317)"
      ]
     },
     "execution_count": 130,
     "metadata": {},
     "output_type": "execute_result"
    }
   ],
   "source": [
    "# 95th Confidence Interval for Marital_Status 1:\n",
    "(mu_ms1 - 1.95 * std_ms1 , mu_ms1 + 1.95 * std_ms1 )"
   ]
  },
  {
   "cell_type": "markdown",
   "id": "edefbac3",
   "metadata": {},
   "source": [
    "#### Observations:\n",
    "1) 95th Confidence intervals for Marital status 0 and 1 are overlapping , so we can not make any conclusion about there purchase behavior."
   ]
  },
  {
   "cell_type": "markdown",
   "id": "336b8204",
   "metadata": {},
   "source": [
    "### Customer purchase behavior against the customer’s Age:"
   ]
  },
  {
   "cell_type": "code",
   "execution_count": 155,
   "id": "d66a0731",
   "metadata": {},
   "outputs": [
    {
     "data": {
      "image/png": "[encoded data removed]",
      "text/plain": [
       "<Figure size 432x288 with 1 Axes>"
      ]
     },
     "metadata": {
      "needs_background": "light"
     },
     "output_type": "display_data"
    }
   ],
   "source": [
    "sns.boxplot(data = df, y = \"Purchase\", x = \"Age\")\n",
    "plt.show()"
   ]
  },
  {
   "cell_type": "code",
   "execution_count": 132,
   "id": "f7a779ee",
   "metadata": {},
   "outputs": [
    {
     "data": {
      "text/html": [
       "<div>\n",
       "<style scoped>\n",
       "    .dataframe tbody tr th:only-of-type {\n",
       "        vertical-align: middle;\n",
       "    }\n",
       "\n",
       "    .dataframe tbody tr th {\n",
       "        vertical-align: top;\n",
       "    }\n",
       "\n",
       "    .dataframe thead th {\n",
       "        text-align: right;\n",
       "    }\n",
       "</style>\n",
       "<table border=\"1\" class=\"dataframe\">\n",
       "  <thead>\n",
       "    <tr style=\"text-align: right;\">\n",
       "      <th></th>\n",
       "      <th>count</th>\n",
       "      <th>mean</th>\n",
       "      <th>std</th>\n",
       "      <th>min</th>\n",
       "      <th>25%</th>\n",
       "      <th>50%</th>\n",
       "      <th>75%</th>\n",
       "      <th>max</th>\n",
       "    </tr>\n",
       "    <tr>\n",
       "      <th>Age</th>\n",
       "      <th></th>\n",
       "      <th></th>\n",
       "      <th></th>\n",
       "      <th></th>\n",
       "      <th></th>\n",
       "      <th></th>\n",
       "      <th></th>\n",
       "      <th></th>\n",
       "    </tr>\n",
       "  </thead>\n",
       "  <tbody>\n",
       "    <tr>\n",
       "      <th>0-17</th>\n",
       "      <td>15102.0</td>\n",
       "      <td>8933.464640</td>\n",
       "      <td>5111.114046</td>\n",
       "      <td>12.0</td>\n",
       "      <td>5328.0</td>\n",
       "      <td>7986.0</td>\n",
       "      <td>11874.0</td>\n",
       "      <td>23955.0</td>\n",
       "    </tr>\n",
       "    <tr>\n",
       "      <th>18-25</th>\n",
       "      <td>99660.0</td>\n",
       "      <td>9169.663606</td>\n",
       "      <td>5034.321997</td>\n",
       "      <td>12.0</td>\n",
       "      <td>5415.0</td>\n",
       "      <td>8027.0</td>\n",
       "      <td>12028.0</td>\n",
       "      <td>23958.0</td>\n",
       "    </tr>\n",
       "    <tr>\n",
       "      <th>26-35</th>\n",
       "      <td>219587.0</td>\n",
       "      <td>9252.690633</td>\n",
       "      <td>5010.527303</td>\n",
       "      <td>12.0</td>\n",
       "      <td>5475.0</td>\n",
       "      <td>8030.0</td>\n",
       "      <td>12047.0</td>\n",
       "      <td>23961.0</td>\n",
       "    </tr>\n",
       "    <tr>\n",
       "      <th>36-45</th>\n",
       "      <td>110013.0</td>\n",
       "      <td>9331.350695</td>\n",
       "      <td>5022.923879</td>\n",
       "      <td>12.0</td>\n",
       "      <td>5876.0</td>\n",
       "      <td>8061.0</td>\n",
       "      <td>12107.0</td>\n",
       "      <td>23960.0</td>\n",
       "    </tr>\n",
       "    <tr>\n",
       "      <th>46-50</th>\n",
       "      <td>45701.0</td>\n",
       "      <td>9208.625697</td>\n",
       "      <td>4967.216367</td>\n",
       "      <td>12.0</td>\n",
       "      <td>5888.0</td>\n",
       "      <td>8036.0</td>\n",
       "      <td>11997.0</td>\n",
       "      <td>23960.0</td>\n",
       "    </tr>\n",
       "    <tr>\n",
       "      <th>51-55</th>\n",
       "      <td>38501.0</td>\n",
       "      <td>9534.808031</td>\n",
       "      <td>5087.368080</td>\n",
       "      <td>12.0</td>\n",
       "      <td>6017.0</td>\n",
       "      <td>8130.0</td>\n",
       "      <td>12462.0</td>\n",
       "      <td>23960.0</td>\n",
       "    </tr>\n",
       "    <tr>\n",
       "      <th>55+</th>\n",
       "      <td>21504.0</td>\n",
       "      <td>9336.280459</td>\n",
       "      <td>5011.493996</td>\n",
       "      <td>12.0</td>\n",
       "      <td>6018.0</td>\n",
       "      <td>8105.5</td>\n",
       "      <td>11932.0</td>\n",
       "      <td>23960.0</td>\n",
       "    </tr>\n",
       "  </tbody>\n",
       "</table>\n",
       "</div>"
      ],
      "text/plain": [
       "          count         mean          std   min     25%     50%      75%  \\\n",
       "Age                                                                        \n",
       "0-17    15102.0  8933.464640  5111.114046  12.0  5328.0  7986.0  11874.0   \n",
       "18-25   99660.0  9169.663606  5034.321997  12.0  5415.0  8027.0  12028.0   \n",
       "26-35  219587.0  9252.690633  5010.527303  12.0  5475.0  8030.0  12047.0   \n",
       "36-45  110013.0  9331.350695  5022.923879  12.0  5876.0  8061.0  12107.0   \n",
       "46-50   45701.0  9208.625697  4967.216367  12.0  5888.0  8036.0  11997.0   \n",
       "51-55   38501.0  9534.808031  5087.368080  12.0  6017.0  8130.0  12462.0   \n",
       "55+     21504.0  9336.280459  5011.493996  12.0  6018.0  8105.5  11932.0   \n",
       "\n",
       "           max  \n",
       "Age             \n",
       "0-17   23955.0  \n",
       "18-25  23958.0  \n",
       "26-35  23961.0  \n",
       "36-45  23960.0  \n",
       "46-50  23960.0  \n",
       "51-55  23960.0  \n",
       "55+    23960.0  "
      ]
     },
     "execution_count": 132,
     "metadata": {},
     "output_type": "execute_result"
    }
   ],
   "source": [
    "df.groupby(by = \"Age\")[\"Purchase\"].describe()"
   ]
  },
  {
   "cell_type": "code",
   "execution_count": 134,
   "id": "bf1f548e",
   "metadata": {},
   "outputs": [],
   "source": [
    "# Bootstraping\n",
    "sample_size = 300\n",
    "no_of_samples = 300\n",
    "age_0_17_sample_means = [df[df[\"Age\"]==\"0-17\"][\"Purchase\"].sample(sample_size, replace = True).mean() for i in range(no_of_samples)]\n",
    "age_18_25_sample_means = [df[df[\"Age\"]==\"18-25\"][\"Purchase\"].sample(sample_size, replace = True).mean() for i in range(no_of_samples)]\n",
    "age_26_35_sample_means = [df[df[\"Age\"]==\"26-35\"][\"Purchase\"].sample(sample_size, replace = True).mean() for i in range(no_of_samples)]\n",
    "age_36_45_sample_means = [df[df[\"Age\"]==\"36-45\"][\"Purchase\"].sample(sample_size, replace = True).mean() for i in range(no_of_samples)]\n",
    "age_46_50_sample_means = [df[df[\"Age\"]==\"46-50\"][\"Purchase\"].sample(sample_size, replace = True).mean() for i in range(no_of_samples)]\n",
    "age_51_55_sample_means = [df[df[\"Age\"]==\"51-55\"][\"Purchase\"].sample(sample_size, replace = True).mean() for i in range(no_of_samples)]\n",
    "age_55plus_sample_means = [df[df[\"Age\"]==\"55+\"][\"Purchase\"].sample(sample_size, replace = True).mean() for i in range(no_of_samples)]\n",
    "\n"
   ]
  },
  {
   "cell_type": "code",
   "execution_count": 135,
   "id": "4c645269",
   "metadata": {},
   "outputs": [
    {
     "data": {
      "image/png": "[encoded data removed]",
      "text/plain": [
       "<Figure size 432x288 with 1 Axes>"
      ]
     },
     "metadata": {
      "needs_background": "light"
     },
     "output_type": "display_data"
    }
   ],
   "source": [
    "sns.histplot(age_0_17_sample_means)\n",
    "plt.show()"
   ]
  },
  {
   "cell_type": "code",
   "execution_count": 136,
   "id": "82c3d6c1",
   "metadata": {},
   "outputs": [
    {
     "data": {
      "image/png": "[encoded data removed]",
      "text/plain": [
       "<Figure size 432x288 with 1 Axes>"
      ]
     },
     "metadata": {
      "needs_background": "light"
     },
     "output_type": "display_data"
    }
   ],
   "source": [
    "sns.histplot(age_18_25_sample_means)\n",
    "plt.show()"
   ]
  },
  {
   "cell_type": "code",
   "execution_count": 137,
   "id": "edac8aa2",
   "metadata": {},
   "outputs": [
    {
     "data": {
      "image/png": "[encoded data removed]",
      "text/plain": [
       "<Figure size 432x288 with 1 Axes>"
      ]
     },
     "metadata": {
      "needs_background": "light"
     },
     "output_type": "display_data"
    }
   ],
   "source": [
    "sns.histplot(age_26_35_sample_means)\n",
    "plt.show()"
   ]
  },
  {
   "cell_type": "code",
   "execution_count": 138,
   "id": "dbe8f8b2",
   "metadata": {},
   "outputs": [
    {
     "data": {
      "image/png": "[encoded data removed]",
      "text/plain": [
       "<Figure size 432x288 with 1 Axes>"
      ]
     },
     "metadata": {
      "needs_background": "light"
     },
     "output_type": "display_data"
    }
   ],
   "source": [
    "sns.histplot(age_36_45_sample_means)\n",
    "plt.show()"
   ]
  },
  {
   "cell_type": "code",
   "execution_count": 139,
   "id": "f0b5849e",
   "metadata": {},
   "outputs": [
    {
     "data": {
      "image/png": "[encoded data removed]",
      "text/plain": [
       "<Figure size 432x288 with 1 Axes>"
      ]
     },
     "metadata": {
      "needs_background": "light"
     },
     "output_type": "display_data"
    }
   ],
   "source": [
    "sns.histplot(age_46_50_sample_means)\n",
    "plt.show()"
   ]
  },
  {
   "cell_type": "code",
   "execution_count": 140,
   "id": "76ed8051",
   "metadata": {},
   "outputs": [
    {
     "data": {
      "image/png": "[encoded data removed]",
      "text/plain": [
       "<Figure size 432x288 with 1 Axes>"
      ]
     },
     "metadata": {
      "needs_background": "light"
     },
     "output_type": "display_data"
    }
   ],
   "source": [
    "sns.histplot(age_51_55_sample_means)\n",
    "plt.show()"
   ]
  },
  {
   "cell_type": "code",
   "execution_count": 141,
   "id": "0750de2e",
   "metadata": {},
   "outputs": [
    {
     "data": {
      "image/png": "[encoded data removed]",
      "text/plain": [
       "<Figure size 432x288 with 1 Axes>"
      ]
     },
     "metadata": {
      "needs_background": "light"
     },
     "output_type": "display_data"
    }
   ],
   "source": [
    "sns.histplot(age_55plus_sample_means)\n",
    "plt.show()"
   ]
  },
  {
   "cell_type": "code",
   "execution_count": 142,
   "id": "d1727f78",
   "metadata": {},
   "outputs": [],
   "source": [
    "mu_age_0_17 = np.mean(age_0_17_sample_means)\n",
    "std_age_0_17 = np.std(age_0_17_sample_means)\n",
    "\n",
    "mu_age_18_25 = np.mean(age_18_25_sample_means)\n",
    "std_age_18_25 = np.std(age_18_25_sample_means)\n",
    "\n",
    "mu_age_26_35 = np.mean(age_26_35_sample_means)\n",
    "std_age_26_35 = np.std(age_26_35_sample_means)\n",
    "\n",
    "mu_age_36_45 = np.mean(age_36_45_sample_means)\n",
    "std_age_36_45 = np.std(age_36_45_sample_means)\n",
    "\n",
    "mu_age_46_50 = np.mean(age_46_50_sample_means)\n",
    "std_age_46_50 = np.std(age_46_50_sample_means)\n",
    "\n",
    "mu_age_51_55 = np.mean(age_51_55_sample_means)\n",
    "std_age_51_55 = np.std(age_51_55_sample_means)\n",
    "\n",
    "mu_age_55plus = np.mean(age_55plus_sample_means)\n",
    "std_age_55plus = np.std(age_55plus_sample_means)\n",
    "\n"
   ]
  },
  {
   "cell_type": "code",
   "execution_count": 143,
   "id": "7318e03c",
   "metadata": {},
   "outputs": [
    {
     "data": {
      "text/plain": [
       "(8361.492412792033, 9474.151764985747)"
      ]
     },
     "execution_count": 143,
     "metadata": {},
     "output_type": "execute_result"
    }
   ],
   "source": [
    "# 95th Confidence Interval for Age group 0_17:\n",
    "(mu_age_0_17 - 1.95 * std_age_0_17 , mu_age_0_17 + 1.95 * std_age_0_17 )"
   ]
  },
  {
   "cell_type": "code",
   "execution_count": 144,
   "id": "1fc40b8f",
   "metadata": {},
   "outputs": [
    {
     "data": {
      "text/plain": [
       "(8586.495267320517, 9714.502021568374)"
      ]
     },
     "execution_count": 144,
     "metadata": {},
     "output_type": "execute_result"
    }
   ],
   "source": [
    "# 95th Confidence Interval for Age group 18_25:\n",
    "(mu_age_18_25 - 1.95 * std_age_18_25 , mu_age_18_25 + 1.95 * std_age_18_25 )"
   ]
  },
  {
   "cell_type": "code",
   "execution_count": 145,
   "id": "b0620287",
   "metadata": {},
   "outputs": [
    {
     "data": {
      "text/plain": [
       "(8657.19866971871, 9835.391196947956)"
      ]
     },
     "execution_count": 145,
     "metadata": {},
     "output_type": "execute_result"
    }
   ],
   "source": [
    "# 95th Confidence Interval for Age group 26_35:\n",
    "(mu_age_26_35 - 1.95 * std_age_26_35 , mu_age_26_35 + 1.95 * std_age_26_35)"
   ]
  },
  {
   "cell_type": "code",
   "execution_count": 146,
   "id": "74520b68",
   "metadata": {},
   "outputs": [
    {
     "data": {
      "text/plain": [
       "(8833.393229981799, 9857.286836684865)"
      ]
     },
     "execution_count": 146,
     "metadata": {},
     "output_type": "execute_result"
    }
   ],
   "source": [
    "# 95th Confidence Interval for Age group 36_45:\n",
    "(mu_age_36_45 - 1.95 * std_age_36_45 , mu_age_36_45 + 1.95 * std_age_36_45 )"
   ]
  },
  {
   "cell_type": "code",
   "execution_count": 147,
   "id": "4a9de18b",
   "metadata": {},
   "outputs": [
    {
     "data": {
      "text/plain": [
       "(8666.855996961807, 9814.014847482638)"
      ]
     },
     "execution_count": 147,
     "metadata": {},
     "output_type": "execute_result"
    }
   ],
   "source": [
    "# 95th Confidence Interval for Age group 46_50:\n",
    "(mu_age_46_50 - 1.95 * std_age_46_50 , mu_age_46_50 + 1.95 * std_age_46_50 )"
   ]
  },
  {
   "cell_type": "code",
   "execution_count": 148,
   "id": "4600720c",
   "metadata": {},
   "outputs": [
    {
     "data": {
      "text/plain": [
       "(8954.971488029532, 10058.478045303804)"
      ]
     },
     "execution_count": 148,
     "metadata": {},
     "output_type": "execute_result"
    }
   ],
   "source": [
    "# 95th Confidence Interval for Age group 51_55:\n",
    "(mu_age_51_55 - 1.95 * std_age_51_55 , mu_age_51_55 + 1.95 * std_age_51_55 )"
   ]
  },
  {
   "cell_type": "code",
   "execution_count": 149,
   "id": "20a6a2a9",
   "metadata": {},
   "outputs": [
    {
     "data": {
      "text/plain": [
       "(8791.727544981119, 9878.170566129995)"
      ]
     },
     "execution_count": 149,
     "metadata": {},
     "output_type": "execute_result"
    }
   ],
   "source": [
    "# 95th Confidence Interval for Age group 55+:\n",
    "(mu_age_55plus - 1.95 * std_age_55plus , mu_age_55plus + 1.95 * std_age_55plus )"
   ]
  },
  {
   "cell_type": "markdown",
   "id": "af1de975",
   "metadata": {},
   "source": [
    "#### Observations:\n",
    "1) 95th Confidence intervals for various Age groups are overlapping , so we can not make any conclusion about there purchase behavior."
   ]
  },
  {
   "cell_type": "markdown",
   "id": "c611a637",
   "metadata": {},
   "source": [
    "### Recommendations:\n",
    "1) Product category 1, 5, 8 are popular than other product categories. Management should focus on other product categories to increase their sale.\n",
    "\n",
    "2) Male orders are 75%, management should find ways to attract more females.\n",
    "\n",
    "3) Focus on kids , they are very less in numbers.\n"
   ]
  },
  {
   "cell_type": "code",
   "execution_count": null,
   "id": "e821e50a",
   "metadata": {},
   "outputs": [],
   "source": []
  }
 ],
 "metadata": {
  "kernelspec": {
   "display_name": "Python 3",
   "language": "python",
   "name": "python3"
  },
  "language_info": {
   "codemirror_mode": {
    "name": "ipython",
    "version": 3
   },
   "file_extension": ".py",
   "mimetype": "text/x-python",
   "name": "python",
   "nbconvert_exporter": "python",
   "pygments_lexer": "ipython3",
   "version": "3.8.8"
  }
 },
 "nbformat": 4,
 "nbformat_minor": 5
}
